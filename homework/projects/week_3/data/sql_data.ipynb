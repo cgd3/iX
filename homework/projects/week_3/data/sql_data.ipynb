{
 "cells": [
  {
   "cell_type": "code",
   "execution_count": 1,
   "metadata": {},
   "outputs": [],
   "source": [
    "import sqlite3"
   ]
  },
  {
   "cell_type": "code",
   "execution_count": 2,
   "metadata": {},
   "outputs": [],
   "source": [
    "conn = sqlite3.connect(\"datawrangling.db\")"
   ]
  },
  {
   "cell_type": "code",
   "execution_count": 3,
   "metadata": {},
   "outputs": [],
   "source": [
    "cur = conn.cursor()"
   ]
  },
  {
   "cell_type": "code",
   "execution_count": 8,
   "metadata": {},
   "outputs": [
    {
     "name": "stdout",
     "output_type": "stream",
     "text": [
      "[('credit_risk_features',), ('credit_risk_target',)]\n"
     ]
    }
   ],
   "source": [
    "cur.execute(\"SELECT name FROM sqlite_master WHERE type='table';\")\n",
    "print(cur.fetchall())"
   ]
  },
  {
   "cell_type": "code",
   "execution_count": 14,
   "metadata": {},
   "outputs": [
    {
     "data": {
      "text/plain": [
       "<sqlite3.Cursor at 0x105093d50>"
      ]
     },
     "execution_count": 14,
     "metadata": {},
     "output_type": "execute_result"
    }
   ],
   "source": [
    "cur.execute(\"SELECT sql FROM sqlite_master WHERE type='table'AND name= 'credit_risk_features'\")"
   ]
  },
  {
   "cell_type": "code",
   "execution_count": 15,
   "metadata": {},
   "outputs": [
    {
     "name": "stdout",
     "output_type": "stream",
     "text": [
      "CREATE TABLE credit_risk_features (\n",
      "SK_ID_CURR INT,\n",
      "DEF_60_CNT_SOCIAL_CIRCLE FLOAT, \n",
      "DAYS_LAST_PHONE_CHANGE FLOAT,\n",
      "BASEMENTAREA_AVG FLOAT,\n",
      "ENTRANCES_AVG FLOAT,\n",
      "FLAG_DOCUMENT_20 INT,\n",
      "FONDKAPREMONT_MODE VARCHAR(255),\n",
      "CNT_CHILDREN INT,\n",
      "FLAG_DOCUMENT_15 INT,\n",
      "FLAG_EMAIL INT,\n",
      "OWN_CAR_AGE FLOAT)\n"
     ]
    }
   ],
   "source": [
    "print(cur.fetchone()[0])"
   ]
  },
  {
   "cell_type": "code",
   "execution_count": 16,
   "metadata": {},
   "outputs": [
    {
     "data": {
      "text/plain": [
       "<sqlite3.Cursor at 0x105093d50>"
      ]
     },
     "execution_count": 16,
     "metadata": {},
     "output_type": "execute_result"
    }
   ],
   "source": [
    "cur.execute(\"SELECT sql FROM sqlite_master WHERE type='table'AND name= 'credit_risk_target'\")"
   ]
  },
  {
   "cell_type": "code",
   "execution_count": 17,
   "metadata": {},
   "outputs": [
    {
     "name": "stdout",
     "output_type": "stream",
     "text": [
      "CREATE TABLE credit_risk_target (\n",
      "SK_ID_CURR INT,\n",
      "TARGET INT)\n"
     ]
    }
   ],
   "source": [
    "print(cur.fetchone()[0])"
   ]
  },
  {
   "cell_type": "code",
   "execution_count": 29,
   "metadata": {},
   "outputs": [
    {
     "name": "stdout",
     "output_type": "stream",
     "text": [
      "('SK_ID_CURR', 'TARGET')\n",
      "(100004, 'NULL')\n",
      "(100006, 0)\n",
      "(100012, 'NULL')\n",
      "(100014, 0)\n",
      "(100015, 0)\n",
      "(100017, 0)\n",
      "(100018, 0)\n",
      "(100019, 0)\n",
      "(100030, 0)\n",
      "(100032, 0)\n",
      "(100034, 'NULL')\n",
      "(100035, 0)\n",
      "(100040, 0)\n",
      "(100043, 'NULL')\n",
      "(100045, 0)\n",
      "(100048, 0)\n",
      "(100049, 1)\n",
      "(100051, 0)\n",
      "(100055, 'NULL')\n"
     ]
    }
   ],
   "source": [
    "cur.execute(\"SELECT * FROM credit_risk_target limit 20\")\n",
    "results = cur.fetchall()\n",
    "for row in results:\n",
    "    print(row)"
   ]
  },
  {
   "cell_type": "code",
   "execution_count": 33,
   "metadata": {},
   "outputs": [
    {
     "name": "stdout",
     "output_type": "stream",
     "text": [
      "('SK_ID_CURR', 'DEF_60_CNT_SOCIAL_CIRCLE', 'DAYS_LAST_PHONE_CHANGE', 'BASEMENTAREA_AVG', 'ENTRANCES_AVG', 'FLAG_DOCUMENT_20', 'FONDKAPREMONT_MODE', 'CNT_CHILDREN', 'FLAG_DOCUMENT_15', 'FLAG_EMAIL', 'OWN_CAR_AGE')\n",
      "(100004, 0.0, -815.0, 'NULL', 'NULL', 0, 'NULL', 0, 0, 0, 26.0)\n",
      "(100006, 0.0, -617.0, 'NULL', 'NULL', 0, 'NULL', 0, 0, 0, 'NULL')\n",
      "(100012, 0.0, -1673.0, 'NULL', 'NULL', 0, 'NULL', 0, 0, 0, 'NULL')\n",
      "(100014, 0.0, -844.0, 'NULL', 'NULL', 0, 'NULL', 1, 0, 0, 'NULL')\n",
      "(100015, 0.0, -2396.0, 'NULL', 'NULL', 0, 'NULL', 0, 0, 0, 'NULL')\n",
      "(100017, 0.0, -4.0, 0.097299999999999, 0.137899999999999, 0, 'reg oper account', 1, 0, 0, 23.0)\n",
      "(100018, 0.0, -188.0, 0.1335, 0.1724, 0, 'reg oper account', 0, 0, 0, 'NULL')\n",
      "(100019, 0.0, -925.0, 'NULL', 'NULL', 0, 'NULL', 0, 0, 0, 17.0)\n",
      "(100030, 0.0, 0.0, 0.0147, 0.137899999999999, 0, 'reg oper account', 0, 0, 0, 'NULL')\n",
      "(100032, 0.0, -2.0, 'NULL', 'NULL', 0, 'NULL', 1, 0, 0, 'NULL')\n",
      "(100034, 0.0, -599.0, 0.083799999999999, 0.137899999999999, 0, 'reg oper account', 0, 0, 0, 'NULL')\n",
      "(100035, 0.0, -1634.0, 'NULL', 0.069, 0, 'NULL', 0, 0, 1, 'NULL')\n",
      "(100040, 0.0, -3019.0, 0.080399999999999, 0.137899999999999, 0, 'reg oper account', 0, 0, 0, 'NULL')\n",
      "(100043, 0.0, -2411.0, 'NULL', 'NULL', 0, 'NULL', 2, 0, 0, 'NULL')\n",
      "(100045, 0.0, 0.0, 'NULL', 0.0345, 0, 'NULL', 0, 0, 0, 'NULL')\n",
      "(100048, 0.0, -458.0, 'NULL', 'NULL', 0, 'NULL', 0, 0, 0, 'NULL')\n",
      "(100049, 0.0, -1480.0, 'NULL', 'NULL', 0, 'NULL', 0, 0, 0, 'NULL')\n",
      "(100051, 0.0, -556.0, 'NULL', 'NULL', 0, 'NULL', 0, 0, 0, 'NULL')\n",
      "(100055, 0.0, -784.0, 'NULL', 'NULL', 0, 'NULL', 0, 0, 0, 'NULL')\n"
     ]
    }
   ],
   "source": [
    "cur.execute(\"SELECT * FROM credit_risk_features limit 20\")\n",
    "results = cur.fetchall()\n",
    "for row in results:\n",
    "    print(row)"
   ]
  },
  {
   "cell_type": "code",
   "execution_count": 30,
   "metadata": {},
   "outputs": [
    {
     "name": "stdout",
     "output_type": "stream",
     "text": [
      "[(100001,)]\n"
     ]
    }
   ],
   "source": [
    "cur.execute(\"SELECT count(*) FROM credit_risk_target\")\n",
    "print(cur.fetchall())"
   ]
  },
  {
   "cell_type": "code",
   "execution_count": 31,
   "metadata": {},
   "outputs": [
    {
     "name": "stdout",
     "output_type": "stream",
     "text": [
      "[(100001,)]\n"
     ]
    }
   ],
   "source": [
    "cur.execute(\"SELECT count(*) FROM credit_risk_features\")\n",
    "print(cur.fetchall())"
   ]
  },
  {
   "cell_type": "code",
   "execution_count": null,
   "metadata": {},
   "outputs": [],
   "source": []
  }
 ],
 "metadata": {
  "kernelspec": {
   "display_name": "Python 3",
   "language": "python",
   "name": "python3"
  },
  "language_info": {
   "codemirror_mode": {
    "name": "ipython",
    "version": 3
   },
   "file_extension": ".py",
   "mimetype": "text/x-python",
   "name": "python",
   "nbconvert_exporter": "python",
   "pygments_lexer": "ipython3",
   "version": "3.6.5"
  }
 },
 "nbformat": 4,
 "nbformat_minor": 2
}
