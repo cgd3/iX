{
 "cells": [
  {
   "cell_type": "markdown",
   "metadata": {},
   "source": [
    "# Pandas Exercises"
   ]
  },
  {
   "cell_type": "code",
   "execution_count": 2,
   "metadata": {},
   "outputs": [],
   "source": [
    "import pandas as pd"
   ]
  },
  {
   "cell_type": "markdown",
   "metadata": {},
   "source": [
    "## Problem 1\n",
    "\n",
    "*The file `crime_data.txt` contrains data on types of crimes commited in the US from 1960 - 2016. Complete the following problems using this data.*"
   ]
  },
  {
   "cell_type": "markdown",
   "metadata": {},
   "source": [
    "Load the data into a pandas DataFrame, using the column names in the file and the column titled “Year” as the index. Make sure to skip lines that don’t contain data."
   ]
  },
  {
   "cell_type": "code",
   "execution_count": 48,
   "metadata": {},
   "outputs": [
    {
     "data": {
      "text/html": [
       "<div>\n",
       "<style scoped>\n",
       "    .dataframe tbody tr th:only-of-type {\n",
       "        vertical-align: middle;\n",
       "    }\n",
       "\n",
       "    .dataframe tbody tr th {\n",
       "        vertical-align: top;\n",
       "    }\n",
       "\n",
       "    .dataframe thead th {\n",
       "        text-align: right;\n",
       "    }\n",
       "</style>\n",
       "<table border=\"1\" class=\"dataframe\">\n",
       "  <thead>\n",
       "    <tr style=\"text-align: right;\">\n",
       "      <th></th>\n",
       "      <th>Population</th>\n",
       "      <th>Total</th>\n",
       "      <th>Violent</th>\n",
       "      <th>Property</th>\n",
       "      <th>Murder</th>\n",
       "      <th>Forcible-Rape</th>\n",
       "      <th>Robbery</th>\n",
       "      <th>Aggravated-assault</th>\n",
       "      <th>Burglary</th>\n",
       "      <th>Larcency-Theft</th>\n",
       "      <th>Vehicle-Theft</th>\n",
       "    </tr>\n",
       "    <tr>\n",
       "      <th>Year</th>\n",
       "      <th></th>\n",
       "      <th></th>\n",
       "      <th></th>\n",
       "      <th></th>\n",
       "      <th></th>\n",
       "      <th></th>\n",
       "      <th></th>\n",
       "      <th></th>\n",
       "      <th></th>\n",
       "      <th></th>\n",
       "      <th></th>\n",
       "    </tr>\n",
       "  </thead>\n",
       "  <tbody>\n",
       "    <tr>\n",
       "      <th>1960</th>\n",
       "      <td>179323175</td>\n",
       "      <td>3384200</td>\n",
       "      <td>288460</td>\n",
       "      <td>3095700</td>\n",
       "      <td>9110</td>\n",
       "      <td>17190</td>\n",
       "      <td>107840</td>\n",
       "      <td>154320</td>\n",
       "      <td>912100</td>\n",
       "      <td>1855400</td>\n",
       "      <td>328200</td>\n",
       "    </tr>\n",
       "    <tr>\n",
       "      <th>1961</th>\n",
       "      <td>182992000</td>\n",
       "      <td>3488000</td>\n",
       "      <td>289390</td>\n",
       "      <td>3198600</td>\n",
       "      <td>8740</td>\n",
       "      <td>17220</td>\n",
       "      <td>106670</td>\n",
       "      <td>156760</td>\n",
       "      <td>949600</td>\n",
       "      <td>1913000</td>\n",
       "      <td>336000</td>\n",
       "    </tr>\n",
       "    <tr>\n",
       "      <th>1962</th>\n",
       "      <td>185771000</td>\n",
       "      <td>3752200</td>\n",
       "      <td>301510</td>\n",
       "      <td>3450700</td>\n",
       "      <td>8530</td>\n",
       "      <td>17550</td>\n",
       "      <td>110860</td>\n",
       "      <td>164570</td>\n",
       "      <td>994300</td>\n",
       "      <td>2089600</td>\n",
       "      <td>366800</td>\n",
       "    </tr>\n",
       "    <tr>\n",
       "      <th>1963</th>\n",
       "      <td>188483000</td>\n",
       "      <td>4109500</td>\n",
       "      <td>316970</td>\n",
       "      <td>3792500</td>\n",
       "      <td>8640</td>\n",
       "      <td>17650</td>\n",
       "      <td>116470</td>\n",
       "      <td>174210</td>\n",
       "      <td>1086400</td>\n",
       "      <td>2297800</td>\n",
       "      <td>408300</td>\n",
       "    </tr>\n",
       "    <tr>\n",
       "      <th>1964</th>\n",
       "      <td>191141000</td>\n",
       "      <td>4564600</td>\n",
       "      <td>364220</td>\n",
       "      <td>4200400</td>\n",
       "      <td>9360</td>\n",
       "      <td>21420</td>\n",
       "      <td>130390</td>\n",
       "      <td>203050</td>\n",
       "      <td>1213200</td>\n",
       "      <td>2514400</td>\n",
       "      <td>472800</td>\n",
       "    </tr>\n",
       "  </tbody>\n",
       "</table>\n",
       "</div>"
      ],
      "text/plain": [
       "      Population    Total  Violent  Property  Murder  Forcible-Rape  Robbery  \\\n",
       "Year                                                                           \n",
       "1960   179323175  3384200   288460   3095700    9110          17190   107840   \n",
       "1961   182992000  3488000   289390   3198600    8740          17220   106670   \n",
       "1962   185771000  3752200   301510   3450700    8530          17550   110860   \n",
       "1963   188483000  4109500   316970   3792500    8640          17650   116470   \n",
       "1964   191141000  4564600   364220   4200400    9360          21420   130390   \n",
       "\n",
       "      Aggravated-assault  Burglary  Larcency-Theft  Vehicle-Theft  \n",
       "Year                                                               \n",
       "1960              154320    912100         1855400         328200  \n",
       "1961              156760    949600         1913000         336000  \n",
       "1962              164570    994300         2089600         366800  \n",
       "1963              174210   1086400         2297800         408300  \n",
       "1964              203050   1213200         2514400         472800  "
      ]
     },
     "execution_count": 48,
     "metadata": {},
     "output_type": "execute_result"
    }
   ],
   "source": [
    "crime = pd.read_csv('crime_data.txt', index_col = 0)\n",
    "crime.head()"
   ]
  },
  {
   "cell_type": "markdown",
   "metadata": {},
   "source": [
    "Insert a new column into the data frame that contains the crime rate by year (the ratio of “Total” column to the “Population” column)."
   ]
  },
  {
   "cell_type": "code",
   "execution_count": 49,
   "metadata": {},
   "outputs": [
    {
     "data": {
      "text/html": [
       "<div>\n",
       "<style scoped>\n",
       "    .dataframe tbody tr th:only-of-type {\n",
       "        vertical-align: middle;\n",
       "    }\n",
       "\n",
       "    .dataframe tbody tr th {\n",
       "        vertical-align: top;\n",
       "    }\n",
       "\n",
       "    .dataframe thead th {\n",
       "        text-align: right;\n",
       "    }\n",
       "</style>\n",
       "<table border=\"1\" class=\"dataframe\">\n",
       "  <thead>\n",
       "    <tr style=\"text-align: right;\">\n",
       "      <th></th>\n",
       "      <th>Population</th>\n",
       "      <th>Total</th>\n",
       "      <th>Violent</th>\n",
       "      <th>Property</th>\n",
       "      <th>Murder</th>\n",
       "      <th>Forcible-Rape</th>\n",
       "      <th>Robbery</th>\n",
       "      <th>Aggravated-assault</th>\n",
       "      <th>Burglary</th>\n",
       "      <th>Larcency-Theft</th>\n",
       "      <th>Vehicle-Theft</th>\n",
       "      <th>Crime_Ratio</th>\n",
       "    </tr>\n",
       "    <tr>\n",
       "      <th>Year</th>\n",
       "      <th></th>\n",
       "      <th></th>\n",
       "      <th></th>\n",
       "      <th></th>\n",
       "      <th></th>\n",
       "      <th></th>\n",
       "      <th></th>\n",
       "      <th></th>\n",
       "      <th></th>\n",
       "      <th></th>\n",
       "      <th></th>\n",
       "      <th></th>\n",
       "    </tr>\n",
       "  </thead>\n",
       "  <tbody>\n",
       "    <tr>\n",
       "      <th>1960</th>\n",
       "      <td>179323175</td>\n",
       "      <td>3384200</td>\n",
       "      <td>288460</td>\n",
       "      <td>3095700</td>\n",
       "      <td>9110</td>\n",
       "      <td>17190</td>\n",
       "      <td>107840</td>\n",
       "      <td>154320</td>\n",
       "      <td>912100</td>\n",
       "      <td>1855400</td>\n",
       "      <td>328200</td>\n",
       "      <td>0.018872</td>\n",
       "    </tr>\n",
       "    <tr>\n",
       "      <th>1961</th>\n",
       "      <td>182992000</td>\n",
       "      <td>3488000</td>\n",
       "      <td>289390</td>\n",
       "      <td>3198600</td>\n",
       "      <td>8740</td>\n",
       "      <td>17220</td>\n",
       "      <td>106670</td>\n",
       "      <td>156760</td>\n",
       "      <td>949600</td>\n",
       "      <td>1913000</td>\n",
       "      <td>336000</td>\n",
       "      <td>0.019061</td>\n",
       "    </tr>\n",
       "    <tr>\n",
       "      <th>1962</th>\n",
       "      <td>185771000</td>\n",
       "      <td>3752200</td>\n",
       "      <td>301510</td>\n",
       "      <td>3450700</td>\n",
       "      <td>8530</td>\n",
       "      <td>17550</td>\n",
       "      <td>110860</td>\n",
       "      <td>164570</td>\n",
       "      <td>994300</td>\n",
       "      <td>2089600</td>\n",
       "      <td>366800</td>\n",
       "      <td>0.020198</td>\n",
       "    </tr>\n",
       "    <tr>\n",
       "      <th>1963</th>\n",
       "      <td>188483000</td>\n",
       "      <td>4109500</td>\n",
       "      <td>316970</td>\n",
       "      <td>3792500</td>\n",
       "      <td>8640</td>\n",
       "      <td>17650</td>\n",
       "      <td>116470</td>\n",
       "      <td>174210</td>\n",
       "      <td>1086400</td>\n",
       "      <td>2297800</td>\n",
       "      <td>408300</td>\n",
       "      <td>0.021803</td>\n",
       "    </tr>\n",
       "    <tr>\n",
       "      <th>1964</th>\n",
       "      <td>191141000</td>\n",
       "      <td>4564600</td>\n",
       "      <td>364220</td>\n",
       "      <td>4200400</td>\n",
       "      <td>9360</td>\n",
       "      <td>21420</td>\n",
       "      <td>130390</td>\n",
       "      <td>203050</td>\n",
       "      <td>1213200</td>\n",
       "      <td>2514400</td>\n",
       "      <td>472800</td>\n",
       "      <td>0.023881</td>\n",
       "    </tr>\n",
       "  </tbody>\n",
       "</table>\n",
       "</div>"
      ],
      "text/plain": [
       "      Population    Total  Violent  Property  Murder  Forcible-Rape  Robbery  \\\n",
       "Year                                                                           \n",
       "1960   179323175  3384200   288460   3095700    9110          17190   107840   \n",
       "1961   182992000  3488000   289390   3198600    8740          17220   106670   \n",
       "1962   185771000  3752200   301510   3450700    8530          17550   110860   \n",
       "1963   188483000  4109500   316970   3792500    8640          17650   116470   \n",
       "1964   191141000  4564600   364220   4200400    9360          21420   130390   \n",
       "\n",
       "      Aggravated-assault  Burglary  Larcency-Theft  Vehicle-Theft  Crime_Ratio  \n",
       "Year                                                                            \n",
       "1960              154320    912100         1855400         328200     0.018872  \n",
       "1961              156760    949600         1913000         336000     0.019061  \n",
       "1962              164570    994300         2089600         366800     0.020198  \n",
       "1963              174210   1086400         2297800         408300     0.021803  \n",
       "1964              203050   1213200         2514400         472800     0.023881  "
      ]
     },
     "execution_count": 49,
     "metadata": {},
     "output_type": "execute_result"
    }
   ],
   "source": [
    "crime['Crime_Ratio'] = crime.Total.divide(crime.Population)\n",
    "crime.head()"
   ]
  },
  {
   "cell_type": "markdown",
   "metadata": {},
   "source": [
    "List the 5 years with the highest crime rate in descending order."
   ]
  },
  {
   "cell_type": "code",
   "execution_count": 50,
   "metadata": {},
   "outputs": [
    {
     "data": {
      "text/html": [
       "<div>\n",
       "<style scoped>\n",
       "    .dataframe tbody tr th:only-of-type {\n",
       "        vertical-align: middle;\n",
       "    }\n",
       "\n",
       "    .dataframe tbody tr th {\n",
       "        vertical-align: top;\n",
       "    }\n",
       "\n",
       "    .dataframe thead th {\n",
       "        text-align: right;\n",
       "    }\n",
       "</style>\n",
       "<table border=\"1\" class=\"dataframe\">\n",
       "  <thead>\n",
       "    <tr style=\"text-align: right;\">\n",
       "      <th></th>\n",
       "      <th>Crime_Ratio</th>\n",
       "    </tr>\n",
       "    <tr>\n",
       "      <th>Year</th>\n",
       "      <th></th>\n",
       "    </tr>\n",
       "  </thead>\n",
       "  <tbody>\n",
       "    <tr>\n",
       "      <th>1980</th>\n",
       "      <td>0.059500</td>\n",
       "    </tr>\n",
       "    <tr>\n",
       "      <th>1991</th>\n",
       "      <td>0.058978</td>\n",
       "    </tr>\n",
       "    <tr>\n",
       "      <th>1981</th>\n",
       "      <td>0.058582</td>\n",
       "    </tr>\n",
       "    <tr>\n",
       "      <th>1990</th>\n",
       "      <td>0.058203</td>\n",
       "    </tr>\n",
       "    <tr>\n",
       "      <th>1989</th>\n",
       "      <td>0.057410</td>\n",
       "    </tr>\n",
       "  </tbody>\n",
       "</table>\n",
       "</div>"
      ],
      "text/plain": [
       "      Crime_Ratio\n",
       "Year             \n",
       "1980     0.059500\n",
       "1991     0.058978\n",
       "1981     0.058582\n",
       "1990     0.058203\n",
       "1989     0.057410"
      ]
     },
     "execution_count": 50,
     "metadata": {},
     "output_type": "execute_result"
    }
   ],
   "source": [
    "(crime[['Crime_Ratio']]).sort_values(by = 'Crime_Ratio', ascending = False).head(5)"
   ]
  },
  {
   "cell_type": "markdown",
   "metadata": {},
   "source": [
    "Calculate the average number of total crimes as well as burglary crimes between 1960 and\n",
    "2012."
   ]
  },
  {
   "cell_type": "code",
   "execution_count": 51,
   "metadata": {},
   "outputs": [
    {
     "name": "stdout",
     "output_type": "stream",
     "text": [
      "10638068.075471697\n"
     ]
    },
    {
     "data": {
      "text/plain": [
       "2446286.2075471696"
      ]
     },
     "execution_count": 51,
     "metadata": {},
     "output_type": "execute_result"
    }
   ],
   "source": [
    "avg = crime[['Total', 'Burglary']].mean()\n",
    "print(avg[0])\n",
    "avg[1]"
   ]
  },
  {
   "cell_type": "markdown",
   "metadata": {},
   "source": [
    "Find the years for which the total number of crimes was below average, but the number\n",
    "of burglaries was above average."
   ]
  },
  {
   "cell_type": "code",
   "execution_count": 52,
   "metadata": {},
   "outputs": [
    {
     "data": {
      "text/html": [
       "<div>\n",
       "<style scoped>\n",
       "    .dataframe tbody tr th:only-of-type {\n",
       "        vertical-align: middle;\n",
       "    }\n",
       "\n",
       "    .dataframe tbody tr th {\n",
       "        vertical-align: top;\n",
       "    }\n",
       "\n",
       "    .dataframe thead th {\n",
       "        text-align: right;\n",
       "    }\n",
       "</style>\n",
       "<table border=\"1\" class=\"dataframe\">\n",
       "  <thead>\n",
       "    <tr style=\"text-align: right;\">\n",
       "      <th></th>\n",
       "      <th>Population</th>\n",
       "      <th>Total</th>\n",
       "      <th>Violent</th>\n",
       "      <th>Property</th>\n",
       "      <th>Murder</th>\n",
       "      <th>Forcible-Rape</th>\n",
       "      <th>Robbery</th>\n",
       "      <th>Aggravated-assault</th>\n",
       "      <th>Burglary</th>\n",
       "      <th>Larcency-Theft</th>\n",
       "      <th>Vehicle-Theft</th>\n",
       "      <th>Crime_Ratio</th>\n",
       "    </tr>\n",
       "    <tr>\n",
       "      <th>Year</th>\n",
       "      <th></th>\n",
       "      <th></th>\n",
       "      <th></th>\n",
       "      <th></th>\n",
       "      <th></th>\n",
       "      <th></th>\n",
       "      <th></th>\n",
       "      <th></th>\n",
       "      <th></th>\n",
       "      <th></th>\n",
       "      <th></th>\n",
       "      <th></th>\n",
       "    </tr>\n",
       "  </thead>\n",
       "  <tbody>\n",
       "    <tr>\n",
       "      <th>1973</th>\n",
       "      <td>209851000</td>\n",
       "      <td>8718100</td>\n",
       "      <td>875910</td>\n",
       "      <td>7842200</td>\n",
       "      <td>19640</td>\n",
       "      <td>51400</td>\n",
       "      <td>384220</td>\n",
       "      <td>420650</td>\n",
       "      <td>2565500</td>\n",
       "      <td>4347900</td>\n",
       "      <td>928800</td>\n",
       "      <td>0.041544</td>\n",
       "    </tr>\n",
       "    <tr>\n",
       "      <th>1974</th>\n",
       "      <td>211392000</td>\n",
       "      <td>10253400</td>\n",
       "      <td>974720</td>\n",
       "      <td>9278700</td>\n",
       "      <td>20710</td>\n",
       "      <td>55400</td>\n",
       "      <td>442400</td>\n",
       "      <td>456210</td>\n",
       "      <td>3039200</td>\n",
       "      <td>5262500</td>\n",
       "      <td>977100</td>\n",
       "      <td>0.048504</td>\n",
       "    </tr>\n",
       "  </tbody>\n",
       "</table>\n",
       "</div>"
      ],
      "text/plain": [
       "      Population     Total  Violent  Property  Murder  Forcible-Rape  Robbery  \\\n",
       "Year                                                                            \n",
       "1973   209851000   8718100   875910   7842200   19640          51400   384220   \n",
       "1974   211392000  10253400   974720   9278700   20710          55400   442400   \n",
       "\n",
       "      Aggravated-assault  Burglary  Larcency-Theft  Vehicle-Theft  Crime_Ratio  \n",
       "Year                                                                            \n",
       "1973              420650   2565500         4347900         928800     0.041544  \n",
       "1974              456210   3039200         5262500         977100     0.048504  "
      ]
     },
     "execution_count": 52,
     "metadata": {},
     "output_type": "execute_result"
    }
   ],
   "source": [
    "crime[(crime.Total < avg[0]) & (crime.Burglary > avg[1])]"
   ]
  },
  {
   "cell_type": "markdown",
   "metadata": {},
   "source": [
    "Select the Population, Violent, and Robbery columns for all years in the 1980s, and save this smaller data frame to a CSV file crime_subset.csv"
   ]
  },
  {
   "cell_type": "code",
   "execution_count": 53,
   "metadata": {},
   "outputs": [],
   "source": [
    "crime_subset = crime.loc[1980:1989][['Population', 'Violent', 'Robbery']]\n",
    "crime_subset\n",
    "crime_subset.to_csv('crime_subset.csv')"
   ]
  },
  {
   "cell_type": "markdown",
   "metadata": {},
   "source": [
    "## Problem 2\n",
    "\n",
    "*The file `titanic.csv` has various features on who survived the accident.  Complete the following problems using this dataset."
   ]
  },
  {
   "cell_type": "markdown",
   "metadata": {},
   "source": [
    "Read the data into a DataFrame. Use the first row of the file as the column labels, but do not use any of the columns as the index."
   ]
  },
  {
   "cell_type": "code",
   "execution_count": null,
   "metadata": {},
   "outputs": [],
   "source": []
  },
  {
   "cell_type": "markdown",
   "metadata": {},
   "source": [
    "Drop the columns \"Sibsp\", \"Parch\", \"Cabin\", \"Boat\", \"Body\", and \"home.dest\""
   ]
  },
  {
   "cell_type": "code",
   "execution_count": null,
   "metadata": {},
   "outputs": [],
   "source": []
  },
  {
   "cell_type": "markdown",
   "metadata": {},
   "source": [
    "Replace null entries in the \"Age\" column with the average age."
   ]
  },
  {
   "cell_type": "code",
   "execution_count": null,
   "metadata": {},
   "outputs": [],
   "source": []
  },
  {
   "cell_type": "markdown",
   "metadata": {},
   "source": [
    "Save the new DataFrame as titanic_clean.csv"
   ]
  },
  {
   "cell_type": "code",
   "execution_count": null,
   "metadata": {},
   "outputs": [],
   "source": []
  },
  {
   "cell_type": "markdown",
   "metadata": {},
   "source": [
    "How many people survived? What percentage of passengers survived?"
   ]
  },
  {
   "cell_type": "code",
   "execution_count": null,
   "metadata": {},
   "outputs": [],
   "source": []
  },
  {
   "cell_type": "markdown",
   "metadata": {},
   "source": [
    "What was the average price of a ticket? How much did the most expensive ticket cost?\n"
   ]
  },
  {
   "cell_type": "code",
   "execution_count": null,
   "metadata": {},
   "outputs": [],
   "source": []
  },
  {
   "cell_type": "markdown",
   "metadata": {},
   "source": [
    "How old was the oldest survivor? How young was the youngest survivor? What about\n",
    "non-survivors?"
   ]
  },
  {
   "cell_type": "code",
   "execution_count": null,
   "metadata": {},
   "outputs": [],
   "source": []
  }
 ],
 "metadata": {
  "kernelspec": {
   "display_name": "Python 3",
   "language": "python",
   "name": "python3"
  },
  "language_info": {
   "codemirror_mode": {
    "name": "ipython",
    "version": 3
   },
   "file_extension": ".py",
   "mimetype": "text/x-python",
   "name": "python",
   "nbconvert_exporter": "python",
   "pygments_lexer": "ipython3",
   "version": "3.6.5"
  }
 },
 "nbformat": 4,
 "nbformat_minor": 2
}
