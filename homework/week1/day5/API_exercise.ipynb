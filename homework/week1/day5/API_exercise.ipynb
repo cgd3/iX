{
 "cells": [
  {
   "cell_type": "markdown",
   "metadata": {},
   "source": [
    "# Exercise. Using APIs:\n",
    "We are going to use [teleport api](https://developers.teleport.org/api/), which is an api that among other things provide country and city information.\n",
    "\n",
    "Using teleport's API, answer the question:\n",
    "\n",
    "**Which country in Europe is the best one for an Architect in terms of salaries (50% percentile)?**\n",
    "\n",
    "Make sure you check the API Explorer to find all of the required endpoints.\n",
    "\n"
   ]
  },
  {
   "cell_type": "code",
   "execution_count": 1,
   "metadata": {},
   "outputs": [],
   "source": [
    "import requests\n",
    "BASE_URL = \"https://api.teleport.org/api/\"\n",
    "continents = requests.get(BASE_URL + \"continents/\").json()"
   ]
  },
  {
   "cell_type": "code",
   "execution_count": 2,
   "metadata": {},
   "outputs": [
    {
     "data": {
      "text/plain": [
       "{'_links': {'continent:items': [{'href': 'https://api.teleport.org/api/continents/geonames:AF/',\n",
       "    'name': 'Africa'},\n",
       "   {'href': 'https://api.teleport.org/api/continents/geonames:AN/',\n",
       "    'name': 'Antarctica'},\n",
       "   {'href': 'https://api.teleport.org/api/continents/geonames:AS/',\n",
       "    'name': 'Asia'},\n",
       "   {'href': 'https://api.teleport.org/api/continents/geonames:EU/',\n",
       "    'name': 'Europe'},\n",
       "   {'href': 'https://api.teleport.org/api/continents/geonames:NA/',\n",
       "    'name': 'North America'},\n",
       "   {'href': 'https://api.teleport.org/api/continents/geonames:OC/',\n",
       "    'name': 'Oceania'},\n",
       "   {'href': 'https://api.teleport.org/api/continents/geonames:SA/',\n",
       "    'name': 'South America'}],\n",
       "  'curies': [{'href': 'https://developers.teleport.org/api/resources/Location/#!/relations/{rel}/',\n",
       "    'name': 'location',\n",
       "    'templated': True},\n",
       "   {'href': 'https://developers.teleport.org/api/resources/City/#!/relations/{rel}/',\n",
       "    'name': 'city',\n",
       "    'templated': True},\n",
       "   {'href': 'https://developers.teleport.org/api/resources/UrbanArea/#!/relations/{rel}/',\n",
       "    'name': 'ua',\n",
       "    'templated': True},\n",
       "   {'href': 'https://developers.teleport.org/api/resources/Country/#!/relations/{rel}/',\n",
       "    'name': 'country',\n",
       "    'templated': True},\n",
       "   {'href': 'https://developers.teleport.org/api/resources/Admin1Division/#!/relations/{rel}/',\n",
       "    'name': 'a1',\n",
       "    'templated': True},\n",
       "   {'href': 'https://developers.teleport.org/api/resources/Timezone/#!/relations/{rel}/',\n",
       "    'name': 'tz',\n",
       "    'templated': True}],\n",
       "  'self': {'href': 'https://api.teleport.org/api/continents/'}},\n",
       " 'count': 7}"
      ]
     },
     "execution_count": 2,
     "metadata": {},
     "output_type": "execute_result"
    }
   ],
   "source": [
    "continents"
   ]
  },
  {
   "cell_type": "code",
   "execution_count": 3,
   "metadata": {},
   "outputs": [
    {
     "data": {
      "text/plain": [
       "[{'href': 'https://api.teleport.org/api/continents/geonames:EU/',\n",
       "  'name': 'Europe'}]"
      ]
     },
     "execution_count": 3,
     "metadata": {},
     "output_type": "execute_result"
    }
   ],
   "source": [
    "[c for c in continents[\"_links\"][\"continent:items\"] if c[\"name\"] == \"Europe\"]"
   ]
  },
  {
   "cell_type": "code",
   "execution_count": 4,
   "metadata": {},
   "outputs": [],
   "source": [
    "europe_countries = requests.get(BASE_URL + \"/continents/geonames:EU/countries/\").json()"
   ]
  },
  {
   "cell_type": "code",
   "execution_count": 5,
   "metadata": {},
   "outputs": [
    {
     "data": {
      "text/plain": [
       "[{'href': 'https://api.teleport.org/api/countries/iso_alpha2:AX/',\n",
       "  'name': 'Aland Islands'},\n",
       " {'href': 'https://api.teleport.org/api/countries/iso_alpha2:AL/',\n",
       "  'name': 'Albania'},\n",
       " {'href': 'https://api.teleport.org/api/countries/iso_alpha2:AD/',\n",
       "  'name': 'Andorra'},\n",
       " {'href': 'https://api.teleport.org/api/countries/iso_alpha2:AT/',\n",
       "  'name': 'Austria'},\n",
       " {'href': 'https://api.teleport.org/api/countries/iso_alpha2:BY/',\n",
       "  'name': 'Belarus'},\n",
       " {'href': 'https://api.teleport.org/api/countries/iso_alpha2:BE/',\n",
       "  'name': 'Belgium'},\n",
       " {'href': 'https://api.teleport.org/api/countries/iso_alpha2:BA/',\n",
       "  'name': 'Bosnia and Herzegovina'},\n",
       " {'href': 'https://api.teleport.org/api/countries/iso_alpha2:BG/',\n",
       "  'name': 'Bulgaria'},\n",
       " {'href': 'https://api.teleport.org/api/countries/iso_alpha2:HR/',\n",
       "  'name': 'Croatia'},\n",
       " {'href': 'https://api.teleport.org/api/countries/iso_alpha2:CY/',\n",
       "  'name': 'Cyprus'},\n",
       " {'href': 'https://api.teleport.org/api/countries/iso_alpha2:CZ/',\n",
       "  'name': 'Czechia'},\n",
       " {'href': 'https://api.teleport.org/api/countries/iso_alpha2:DK/',\n",
       "  'name': 'Denmark'},\n",
       " {'href': 'https://api.teleport.org/api/countries/iso_alpha2:EE/',\n",
       "  'name': 'Estonia'},\n",
       " {'href': 'https://api.teleport.org/api/countries/iso_alpha2:FO/',\n",
       "  'name': 'Faroe Islands'},\n",
       " {'href': 'https://api.teleport.org/api/countries/iso_alpha2:FI/',\n",
       "  'name': 'Finland'},\n",
       " {'href': 'https://api.teleport.org/api/countries/iso_alpha2:FR/',\n",
       "  'name': 'France'},\n",
       " {'href': 'https://api.teleport.org/api/countries/iso_alpha2:DE/',\n",
       "  'name': 'Germany'},\n",
       " {'href': 'https://api.teleport.org/api/countries/iso_alpha2:GI/',\n",
       "  'name': 'Gibraltar'},\n",
       " {'href': 'https://api.teleport.org/api/countries/iso_alpha2:GR/',\n",
       "  'name': 'Greece'},\n",
       " {'href': 'https://api.teleport.org/api/countries/iso_alpha2:GG/',\n",
       "  'name': 'Guernsey'},\n",
       " {'href': 'https://api.teleport.org/api/countries/iso_alpha2:HU/',\n",
       "  'name': 'Hungary'},\n",
       " {'href': 'https://api.teleport.org/api/countries/iso_alpha2:IS/',\n",
       "  'name': 'Iceland'},\n",
       " {'href': 'https://api.teleport.org/api/countries/iso_alpha2:IE/',\n",
       "  'name': 'Ireland'},\n",
       " {'href': 'https://api.teleport.org/api/countries/iso_alpha2:IM/',\n",
       "  'name': 'Isle of Man'},\n",
       " {'href': 'https://api.teleport.org/api/countries/iso_alpha2:IT/',\n",
       "  'name': 'Italy'},\n",
       " {'href': 'https://api.teleport.org/api/countries/iso_alpha2:JE/',\n",
       "  'name': 'Jersey'},\n",
       " {'href': 'https://api.teleport.org/api/countries/iso_alpha2:XK/',\n",
       "  'name': 'Kosovo'},\n",
       " {'href': 'https://api.teleport.org/api/countries/iso_alpha2:LV/',\n",
       "  'name': 'Latvia'},\n",
       " {'href': 'https://api.teleport.org/api/countries/iso_alpha2:LI/',\n",
       "  'name': 'Liechtenstein'},\n",
       " {'href': 'https://api.teleport.org/api/countries/iso_alpha2:LT/',\n",
       "  'name': 'Lithuania'},\n",
       " {'href': 'https://api.teleport.org/api/countries/iso_alpha2:LU/',\n",
       "  'name': 'Luxembourg'},\n",
       " {'href': 'https://api.teleport.org/api/countries/iso_alpha2:MK/',\n",
       "  'name': 'Macedonia'},\n",
       " {'href': 'https://api.teleport.org/api/countries/iso_alpha2:MT/',\n",
       "  'name': 'Malta'},\n",
       " {'href': 'https://api.teleport.org/api/countries/iso_alpha2:MD/',\n",
       "  'name': 'Moldova'},\n",
       " {'href': 'https://api.teleport.org/api/countries/iso_alpha2:MC/',\n",
       "  'name': 'Monaco'},\n",
       " {'href': 'https://api.teleport.org/api/countries/iso_alpha2:ME/',\n",
       "  'name': 'Montenegro'},\n",
       " {'href': 'https://api.teleport.org/api/countries/iso_alpha2:NL/',\n",
       "  'name': 'Netherlands'},\n",
       " {'href': 'https://api.teleport.org/api/countries/iso_alpha2:NO/',\n",
       "  'name': 'Norway'},\n",
       " {'href': 'https://api.teleport.org/api/countries/iso_alpha2:PL/',\n",
       "  'name': 'Poland'},\n",
       " {'href': 'https://api.teleport.org/api/countries/iso_alpha2:PT/',\n",
       "  'name': 'Portugal'},\n",
       " {'href': 'https://api.teleport.org/api/countries/iso_alpha2:RO/',\n",
       "  'name': 'Romania'},\n",
       " {'href': 'https://api.teleport.org/api/countries/iso_alpha2:RU/',\n",
       "  'name': 'Russia'},\n",
       " {'href': 'https://api.teleport.org/api/countries/iso_alpha2:SM/',\n",
       "  'name': 'San Marino'},\n",
       " {'href': 'https://api.teleport.org/api/countries/iso_alpha2:RS/',\n",
       "  'name': 'Serbia'},\n",
       " {'href': 'https://api.teleport.org/api/countries/iso_alpha2:CS/',\n",
       "  'name': 'Serbia and Montenegro'},\n",
       " {'href': 'https://api.teleport.org/api/countries/iso_alpha2:SK/',\n",
       "  'name': 'Slovakia'},\n",
       " {'href': 'https://api.teleport.org/api/countries/iso_alpha2:SI/',\n",
       "  'name': 'Slovenia'},\n",
       " {'href': 'https://api.teleport.org/api/countries/iso_alpha2:ES/',\n",
       "  'name': 'Spain'},\n",
       " {'href': 'https://api.teleport.org/api/countries/iso_alpha2:SJ/',\n",
       "  'name': 'Svalbard and Jan Mayen'},\n",
       " {'href': 'https://api.teleport.org/api/countries/iso_alpha2:SE/',\n",
       "  'name': 'Sweden'},\n",
       " {'href': 'https://api.teleport.org/api/countries/iso_alpha2:CH/',\n",
       "  'name': 'Switzerland'},\n",
       " {'href': 'https://api.teleport.org/api/countries/iso_alpha2:UA/',\n",
       "  'name': 'Ukraine'},\n",
       " {'href': 'https://api.teleport.org/api/countries/iso_alpha2:GB/',\n",
       "  'name': 'United Kingdom'},\n",
       " {'href': 'https://api.teleport.org/api/countries/iso_alpha2:VA/',\n",
       "  'name': 'Vatican'}]"
      ]
     },
     "execution_count": 5,
     "metadata": {},
     "output_type": "execute_result"
    }
   ],
   "source": [
    "europe_countries[\"_links\"][\"country:items\"]"
   ]
  },
  {
   "cell_type": "code",
   "execution_count": 6,
   "metadata": {},
   "outputs": [],
   "source": [
    "from glom import glom\n",
    "countries_dict = dict(zip(\n",
    "    glom(europe_countries, (\"_links.country:items\", [\"name\"])),\n",
    "    glom(europe_countries, (\"_links.country:items\", [\"href\"]))\n",
    "))"
   ]
  },
  {
   "cell_type": "code",
   "execution_count": 7,
   "metadata": {},
   "outputs": [
    {
     "data": {
      "text/plain": [
       "{'Aland Islands': 'https://api.teleport.org/api/countries/iso_alpha2:AX/',\n",
       " 'Albania': 'https://api.teleport.org/api/countries/iso_alpha2:AL/',\n",
       " 'Andorra': 'https://api.teleport.org/api/countries/iso_alpha2:AD/',\n",
       " 'Austria': 'https://api.teleport.org/api/countries/iso_alpha2:AT/',\n",
       " 'Belarus': 'https://api.teleport.org/api/countries/iso_alpha2:BY/',\n",
       " 'Belgium': 'https://api.teleport.org/api/countries/iso_alpha2:BE/',\n",
       " 'Bosnia and Herzegovina': 'https://api.teleport.org/api/countries/iso_alpha2:BA/',\n",
       " 'Bulgaria': 'https://api.teleport.org/api/countries/iso_alpha2:BG/',\n",
       " 'Croatia': 'https://api.teleport.org/api/countries/iso_alpha2:HR/',\n",
       " 'Cyprus': 'https://api.teleport.org/api/countries/iso_alpha2:CY/',\n",
       " 'Czechia': 'https://api.teleport.org/api/countries/iso_alpha2:CZ/',\n",
       " 'Denmark': 'https://api.teleport.org/api/countries/iso_alpha2:DK/',\n",
       " 'Estonia': 'https://api.teleport.org/api/countries/iso_alpha2:EE/',\n",
       " 'Faroe Islands': 'https://api.teleport.org/api/countries/iso_alpha2:FO/',\n",
       " 'Finland': 'https://api.teleport.org/api/countries/iso_alpha2:FI/',\n",
       " 'France': 'https://api.teleport.org/api/countries/iso_alpha2:FR/',\n",
       " 'Germany': 'https://api.teleport.org/api/countries/iso_alpha2:DE/',\n",
       " 'Gibraltar': 'https://api.teleport.org/api/countries/iso_alpha2:GI/',\n",
       " 'Greece': 'https://api.teleport.org/api/countries/iso_alpha2:GR/',\n",
       " 'Guernsey': 'https://api.teleport.org/api/countries/iso_alpha2:GG/',\n",
       " 'Hungary': 'https://api.teleport.org/api/countries/iso_alpha2:HU/',\n",
       " 'Iceland': 'https://api.teleport.org/api/countries/iso_alpha2:IS/',\n",
       " 'Ireland': 'https://api.teleport.org/api/countries/iso_alpha2:IE/',\n",
       " 'Isle of Man': 'https://api.teleport.org/api/countries/iso_alpha2:IM/',\n",
       " 'Italy': 'https://api.teleport.org/api/countries/iso_alpha2:IT/',\n",
       " 'Jersey': 'https://api.teleport.org/api/countries/iso_alpha2:JE/',\n",
       " 'Kosovo': 'https://api.teleport.org/api/countries/iso_alpha2:XK/',\n",
       " 'Latvia': 'https://api.teleport.org/api/countries/iso_alpha2:LV/',\n",
       " 'Liechtenstein': 'https://api.teleport.org/api/countries/iso_alpha2:LI/',\n",
       " 'Lithuania': 'https://api.teleport.org/api/countries/iso_alpha2:LT/',\n",
       " 'Luxembourg': 'https://api.teleport.org/api/countries/iso_alpha2:LU/',\n",
       " 'Macedonia': 'https://api.teleport.org/api/countries/iso_alpha2:MK/',\n",
       " 'Malta': 'https://api.teleport.org/api/countries/iso_alpha2:MT/',\n",
       " 'Moldova': 'https://api.teleport.org/api/countries/iso_alpha2:MD/',\n",
       " 'Monaco': 'https://api.teleport.org/api/countries/iso_alpha2:MC/',\n",
       " 'Montenegro': 'https://api.teleport.org/api/countries/iso_alpha2:ME/',\n",
       " 'Netherlands': 'https://api.teleport.org/api/countries/iso_alpha2:NL/',\n",
       " 'Norway': 'https://api.teleport.org/api/countries/iso_alpha2:NO/',\n",
       " 'Poland': 'https://api.teleport.org/api/countries/iso_alpha2:PL/',\n",
       " 'Portugal': 'https://api.teleport.org/api/countries/iso_alpha2:PT/',\n",
       " 'Romania': 'https://api.teleport.org/api/countries/iso_alpha2:RO/',\n",
       " 'Russia': 'https://api.teleport.org/api/countries/iso_alpha2:RU/',\n",
       " 'San Marino': 'https://api.teleport.org/api/countries/iso_alpha2:SM/',\n",
       " 'Serbia': 'https://api.teleport.org/api/countries/iso_alpha2:RS/',\n",
       " 'Serbia and Montenegro': 'https://api.teleport.org/api/countries/iso_alpha2:CS/',\n",
       " 'Slovakia': 'https://api.teleport.org/api/countries/iso_alpha2:SK/',\n",
       " 'Slovenia': 'https://api.teleport.org/api/countries/iso_alpha2:SI/',\n",
       " 'Spain': 'https://api.teleport.org/api/countries/iso_alpha2:ES/',\n",
       " 'Svalbard and Jan Mayen': 'https://api.teleport.org/api/countries/iso_alpha2:SJ/',\n",
       " 'Sweden': 'https://api.teleport.org/api/countries/iso_alpha2:SE/',\n",
       " 'Switzerland': 'https://api.teleport.org/api/countries/iso_alpha2:CH/',\n",
       " 'Ukraine': 'https://api.teleport.org/api/countries/iso_alpha2:UA/',\n",
       " 'United Kingdom': 'https://api.teleport.org/api/countries/iso_alpha2:GB/',\n",
       " 'Vatican': 'https://api.teleport.org/api/countries/iso_alpha2:VA/'}"
      ]
     },
     "execution_count": 7,
     "metadata": {},
     "output_type": "execute_result"
    }
   ],
   "source": [
    "countries_dict"
   ]
  },
  {
   "cell_type": "code",
   "execution_count": 8,
   "metadata": {},
   "outputs": [],
   "source": [
    "portugal_data = requests.get(\n",
    "                        \"https://api.teleport.org/api/countries/iso_alpha2:PT/salaries\"\n",
    ").json()"
   ]
  },
  {
   "cell_type": "code",
   "execution_count": 9,
   "metadata": {},
   "outputs": [
    {
     "data": {
      "text/plain": [
       "dict_keys(['_links', 'salaries'])"
      ]
     },
     "execution_count": 9,
     "metadata": {},
     "output_type": "execute_result"
    }
   ],
   "source": [
    "portugal_data.keys()"
   ]
  },
  {
   "cell_type": "code",
   "execution_count": 12,
   "metadata": {},
   "outputs": [],
   "source": [
    "portugal_salaries = portugal_data[\"salaries\"]"
   ]
  },
  {
   "cell_type": "code",
   "execution_count": 13,
   "metadata": {},
   "outputs": [
    {
     "name": "stdout",
     "output_type": "stream",
     "text": [
      "{'job': {'id': 'ACCOUNT-MANAGER', 'title': 'Account Manager'}, 'salary_percentiles': {'percentile_25': 13069.80634374441, 'percentile_50': 18701.600947355048, 'percentile_75': 26760.142330763127}}\n"
     ]
    }
   ],
   "source": [
    "print(portugal_salaries[0])"
   ]
  },
  {
   "cell_type": "code",
   "execution_count": 14,
   "metadata": {},
   "outputs": [
    {
     "name": "stdout",
     "output_type": "stream",
     "text": [
      "{'percentile_25': 12024.33680305131, 'percentile_50': 14889.589438353738, 'percentile_75': 18437.5967900763}\n"
     ]
    }
   ],
   "source": [
    "for salary in portugal_salaries:\n",
    "    if salary[\"job\"][\"id\"] == \"ARCHITECT\":\n",
    "        print(salary[\"salary_percentiles\"])"
   ]
  },
  {
   "cell_type": "code",
   "execution_count": 15,
   "metadata": {},
   "outputs": [],
   "source": [
    "def get_country_salaries(country_url, job_title):\n",
    "    request = requests.get(country_url+ \"salaries\")\n",
    "    if request.ok:\n",
    "        salaries = request.json()[\"salaries\"]\n",
    "        for salary in salaries:\n",
    "            if salary[\"job\"][\"id\"] == job_title:\n",
    "                return salary[\"salary_percentiles\"][\"percentile_50\"]"
   ]
  },
  {
   "cell_type": "code",
   "execution_count": 16,
   "metadata": {},
   "outputs": [],
   "source": [
    "architect_salaries = {}\n",
    "for country_name, country_url in countries_dict.items():\n",
    "    architect_salaries[country_name] = get_country_salaries(country_url, \"ARCHITECT\")"
   ]
  },
  {
   "cell_type": "code",
   "execution_count": 21,
   "metadata": {},
   "outputs": [
    {
     "data": {
      "text/plain": [
       "{'Aland Islands': 70097.24168877421,\n",
       " 'Albania': 7972.248496647717,\n",
       " 'Andorra': 53978.46198233692,\n",
       " 'Austria': 24033.926657851098,\n",
       " 'Belarus': 9586.147151187122,\n",
       " 'Belgium': 36315.91978741829,\n",
       " 'Bosnia and Herzegovina': 9925.194490409021,\n",
       " 'Bulgaria': 12490.58559274332,\n",
       " 'Croatia': 17501.045135253615,\n",
       " 'Cyprus': 20317.89158992561,\n",
       " 'Czechia': 40080.24448281322,\n",
       " 'Denmark': 77466.09424075867,\n",
       " 'Estonia': 19127.914698175406,\n",
       " 'Faroe Islands': 57742.680713716494,\n",
       " 'Finland': 45734.124096882435,\n",
       " 'France': 34987.72205196216,\n",
       " 'Germany': 41262.04287660226,\n",
       " 'Gibraltar': 91912.05924232888,\n",
       " 'Greece': 15691.864515210455,\n",
       " 'Guernsey': 69725.84555649548,\n",
       " 'Hungary': 19216.42335653538,\n",
       " 'Iceland': 104250.04055167825,\n",
       " 'Ireland': 39341.01428404915,\n",
       " 'Isle of Man': 73445.52996100018,\n",
       " 'Italy': 17709.32474689936,\n",
       " 'Jersey': 82675.66999749502,\n",
       " 'Kosovo': 11210.80526619977,\n",
       " 'Latvia': 16773.680681540845,\n",
       " 'Liechtenstein': None,\n",
       " 'Lithuania': 12715.863745737244,\n",
       " 'Luxembourg': 88151.74876323169,\n",
       " 'Macedonia': 7302.454571738609,\n",
       " 'Malta': 34392.35450187981,\n",
       " 'Moldova': 6159.9549836244305,\n",
       " 'Monaco': 147586.8475087603,\n",
       " 'Montenegro': 14547.442717414695,\n",
       " 'Netherlands': 38510.67775392955,\n",
       " 'Norway': 79519.02963716857,\n",
       " 'Poland': 20531.924340652135,\n",
       " 'Portugal': 14889.589438353738,\n",
       " 'Romania': 23160.33985945839,\n",
       " 'Russia': 24769.22884278017,\n",
       " 'San Marino': None,\n",
       " 'Serbia': 14391.791336111097,\n",
       " 'Serbia and Montenegro': None,\n",
       " 'Slovakia': 15624.590536936847,\n",
       " 'Slovenia': 18759.747380959507,\n",
       " 'Spain': 17955.99839341469,\n",
       " 'Svalbard and Jan Mayen': None,\n",
       " 'Sweden': 72358.81009885856,\n",
       " 'Switzerland': 57753.62786375056,\n",
       " 'Ukraine': 11155.666183065156,\n",
       " 'United Kingdom': 43852.63033260471,\n",
       " 'Vatican': None}"
      ]
     },
     "execution_count": 21,
     "metadata": {},
     "output_type": "execute_result"
    }
   ],
   "source": [
    "architect_salaries"
   ]
  },
  {
   "cell_type": "code",
   "execution_count": 22,
   "metadata": {},
   "outputs": [],
   "source": [
    "max_salary = 0\n",
    "max_salary_country = \"\"\n",
    "for country, median_salary in architect_salaries.items():\n",
    "    if median_salary and median_salary> max_salary:\n",
    "        max_salary_country = country\n",
    "        max_salary = median_salary"
   ]
  },
  {
   "cell_type": "code",
   "execution_count": 23,
   "metadata": {},
   "outputs": [
    {
     "name": "stdout",
     "output_type": "stream",
     "text": [
      "The country with the highest 50% percentile salary is Monaco with 147586.8475087603$\n"
     ]
    }
   ],
   "source": [
    "print(\"The country with the highest 50% percentile salary is {} with {}$\".format(\n",
    "            max_salary_country, max_salary))"
   ]
  }
 ],
 "metadata": {
  "kernelspec": {
   "display_name": "Python 3",
   "language": "python",
   "name": "python3"
  },
  "language_info": {
   "codemirror_mode": {
    "name": "ipython",
    "version": 3
   },
   "file_extension": ".py",
   "mimetype": "text/x-python",
   "name": "python",
   "nbconvert_exporter": "python",
   "pygments_lexer": "ipython3",
   "version": "3.6.5"
  }
 },
 "nbformat": 4,
 "nbformat_minor": 2
}
