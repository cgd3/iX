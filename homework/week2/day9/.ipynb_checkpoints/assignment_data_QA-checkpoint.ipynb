{
 "cells": [
  {
   "cell_type": "markdown",
   "metadata": {},
   "source": [
    "## Quality Assurance"
   ]
  },
  {
   "cell_type": "code",
   "execution_count": 2,
   "metadata": {},
   "outputs": [],
   "source": [
    "import pandas as pd\n",
    "import sys"
   ]
  },
  {
   "cell_type": "code",
   "execution_count": 3,
   "metadata": {},
   "outputs": [],
   "source": [
    "%matplotlib inline\n",
    "import matplotlib.pyplot as plt\n",
    "\n",
    "plt.rcParams['figure.figsize'] = (12,12)"
   ]
  },
  {
   "cell_type": "code",
   "execution_count": 4,
   "metadata": {},
   "outputs": [],
   "source": [
    "airbnb = pd.read_csv(\"airbnb.csv\")"
   ]
  },
  {
   "cell_type": "code",
   "execution_count": 5,
   "metadata": {},
   "outputs": [
    {
     "data": {
      "text/plain": [
       "(13232, 9)"
      ]
     },
     "execution_count": 5,
     "metadata": {},
     "output_type": "execute_result"
    }
   ],
   "source": [
    "airbnb.shape"
   ]
  },
  {
   "cell_type": "markdown",
   "metadata": {},
   "source": [
    "### Duplicates"
   ]
  },
  {
   "cell_type": "code",
   "execution_count": 32,
   "metadata": {},
   "outputs": [
    {
     "data": {
      "text/plain": [
       "(0, 9)"
      ]
     },
     "execution_count": 32,
     "metadata": {},
     "output_type": "execute_result"
    }
   ],
   "source": [
    "airbnb[airbnb.duplicated()].shape"
   ]
  },
  {
   "cell_type": "code",
   "execution_count": 7,
   "metadata": {},
   "outputs": [
    {
     "name": "stdout",
     "output_type": "stream",
     "text": [
      "room_id | 0.0-0.0 | int64\n",
      "host_id | 0.013-0.0 | int64\n",
      "room_type | 0.738-0.013 | object\n",
      "neighborhood | 0.211-0.002 | object\n",
      "reviews | 0.175-0.0 | int64\n",
      "overall_satisfaction | 0.348-0.0 | float64\n",
      "accommodates | 0.303-0.001 | int64\n",
      "bedrooms | 0.557-0.001 | float64\n",
      "price | 0.059-0.0 | float64\n"
     ]
    }
   ],
   "source": [
    "n_records = len(airbnb)\n",
    "def duplicate_values_col(df):\n",
    "    for column in df:\n",
    "        column_counts = df[column].value_counts()\n",
    "        most_common = column_counts.iloc[0]\n",
    "        least_common = column_counts.iloc[-1]\n",
    "        print(\"{} | {}-{} | {}\".format(\n",
    "            df[column].name,\n",
    "            round(most_common / (1.0 * n_records),3),\n",
    "            round(least_common / (1.0 * n_records),3),\n",
    "            df[column].dtype\n",
    "        ))\n",
    "\n",
    "duplicate_values_col(airbnb)"
   ]
  },
  {
   "cell_type": "code",
   "execution_count": 9,
   "metadata": {},
   "outputs": [
    {
     "data": {
      "text/plain": [
       "Entire home/apt    0.737908\n",
       "Private room       0.249169\n",
       "Shared room        0.012923\n",
       "Name: room_type, dtype: float64"
      ]
     },
     "execution_count": 9,
     "metadata": {},
     "output_type": "execute_result"
    }
   ],
   "source": [
    "airbnb.room_type.value_counts(normalize=True)"
   ]
  },
  {
   "cell_type": "code",
   "execution_count": 16,
   "metadata": {},
   "outputs": [
    {
     "data": {
      "image/png": "[encoded data removed]",
      "text/plain": [
       "<Figure size 432x288 with 1 Axes>"
      ]
     },
     "metadata": {},
     "output_type": "display_data"
    }
   ],
   "source": [
    "airbnb.room_type.value_counts(normalize=True).plot.barh();"
   ]
  },
  {
   "cell_type": "code",
   "execution_count": 11,
   "metadata": {},
   "outputs": [
    {
     "data": {
      "text/plain": [
       "Santa Maria Maior          2798\n",
       "Misericórdia               2402\n",
       "Arroios                    1664\n",
       "Santo António              1105\n",
       "São Vicente                1041\n",
       "Estrela                     803\n",
       "Avenidas Novas              566\n",
       "Penha de França             407\n",
       "Campo de Ourique            319\n",
       "Areeiro                     280\n",
       "Belém                       254\n",
       "Alvalade                    253\n",
       "Parque das Nações           250\n",
       "Alcântara                   213\n",
       "São Domingos de Benfica     138\n",
       "Lumiar                      124\n",
       "Campolide                   123\n",
       "Olivais                     108\n",
       "Ajuda                       108\n",
       "Beato                        84\n",
       "Benfica                      71\n",
       "Marvila                      51\n",
       "Carnide                      47\n",
       "Santa Clara                  23\n",
       "Name: neighborhood, dtype: int64"
      ]
     },
     "execution_count": 11,
     "metadata": {},
     "output_type": "execute_result"
    }
   ],
   "source": [
    "airbnb.neighborhood.value_counts()"
   ]
  },
  {
   "cell_type": "code",
   "execution_count": 17,
   "metadata": {},
   "outputs": [
    {
     "data": {
      "image/png": "[encoded data removed]",
      "text/plain": [
       "<Figure size 432x288 with 1 Axes>"
      ]
     },
     "metadata": {},
     "output_type": "display_data"
    }
   ],
   "source": [
    "airbnb.neighborhood.value_counts(normalize=True).plot.barh();"
   ]
  },
  {
   "cell_type": "code",
   "execution_count": 13,
   "metadata": {},
   "outputs": [
    {
     "data": {
      "text/plain": [
       "2     4005\n",
       "4     3731\n",
       "6     1568\n",
       "3     1269\n",
       "5      892\n",
       "1      628\n",
       "8      389\n",
       "7      259\n",
       "10     175\n",
       "9       85\n",
       "16      80\n",
       "12      64\n",
       "11      37\n",
       "14      22\n",
       "15      18\n",
       "13      10\n",
       "Name: accommodates, dtype: int64"
      ]
     },
     "execution_count": 13,
     "metadata": {},
     "output_type": "execute_result"
    }
   ],
   "source": [
    "airbnb.accommodates.value_counts()"
   ]
  },
  {
   "cell_type": "code",
   "execution_count": 18,
   "metadata": {},
   "outputs": [
    {
     "data": {
      "image/png": "[encoded data removed]",
      "text/plain": [
       "<Figure size 432x288 with 1 Axes>"
      ]
     },
     "metadata": {},
     "output_type": "display_data"
    }
   ],
   "source": [
    "airbnb.accommodates.hist();"
   ]
  },
  {
   "cell_type": "code",
   "execution_count": 14,
   "metadata": {},
   "outputs": [
    {
     "data": {
      "text/plain": [
       "1.0     7376\n",
       "2.0     3235\n",
       "3.0     1245\n",
       "0.0      772\n",
       "4.0      346\n",
       "5.0      132\n",
       "6.0       71\n",
       "7.0       25\n",
       "10.0      14\n",
       "9.0        9\n",
       "8.0        7\n",
       "Name: bedrooms, dtype: int64"
      ]
     },
     "execution_count": 14,
     "metadata": {},
     "output_type": "execute_result"
    }
   ],
   "source": [
    "airbnb.bedrooms.value_counts()"
   ]
  },
  {
   "cell_type": "code",
   "execution_count": 19,
   "metadata": {},
   "outputs": [
    {
     "data": {
      "image/png": "[encoded data removed]",
      "text/plain": [
       "<Figure size 432x288 with 1 Axes>"
      ]
     },
     "metadata": {},
     "output_type": "display_data"
    }
   ],
   "source": [
    "airbnb.bedrooms.hist();"
   ]
  },
  {
   "cell_type": "code",
   "execution_count": 23,
   "metadata": {},
   "outputs": [
    {
     "data": {
      "text/plain": [
       "4.5    4605\n",
       "0.0    3835\n",
       "5.0    3727\n",
       "4.0     842\n",
       "3.5     154\n",
       "3.0      41\n",
       "2.5      14\n",
       "2.0       3\n",
       "1.5       1\n",
       "Name: overall_satisfaction, dtype: int64"
      ]
     },
     "execution_count": 23,
     "metadata": {},
     "output_type": "execute_result"
    }
   ],
   "source": [
    "airbnb.overall_satisfaction.value_counts()"
   ]
  },
  {
   "cell_type": "code",
   "execution_count": 22,
   "metadata": {},
   "outputs": [
    {
     "data": {
      "image/png": "[encoded data removed]",
      "text/plain": [
       "<Figure size 432x288 with 1 Axes>"
      ]
     },
     "metadata": {},
     "output_type": "display_data"
    }
   ],
   "source": [
    "airbnb.overall_satisfaction.hist();"
   ]
  },
  {
   "cell_type": "code",
   "execution_count": 24,
   "metadata": {},
   "outputs": [
    {
     "data": {
      "text/plain": [
       "0      2316\n",
       "1       880\n",
       "2       642\n",
       "3       508\n",
       "4       425\n",
       "5       406\n",
       "6       313\n",
       "7       298\n",
       "8       263\n",
       "9       250\n",
       "10      241\n",
       "13      195\n",
       "12      191\n",
       "11      187\n",
       "14      165\n",
       "19      159\n",
       "15      157\n",
       "16      157\n",
       "17      155\n",
       "18      142\n",
       "20      141\n",
       "24      129\n",
       "21      126\n",
       "23      122\n",
       "22      113\n",
       "25      110\n",
       "28      100\n",
       "32       92\n",
       "26       89\n",
       "27       89\n",
       "       ... \n",
       "222       1\n",
       "262       1\n",
       "278       1\n",
       "302       1\n",
       "438       1\n",
       "241       1\n",
       "167       1\n",
       "175       1\n",
       "191       1\n",
       "199       1\n",
       "255       1\n",
       "263       1\n",
       "237       1\n",
       "316       1\n",
       "284       1\n",
       "244       1\n",
       "419       1\n",
       "379       1\n",
       "287       1\n",
       "267       1\n",
       "251       1\n",
       "243       1\n",
       "227       1\n",
       "195       1\n",
       "298       1\n",
       "154       1\n",
       "337       1\n",
       "257       1\n",
       "249       1\n",
       "291       1\n",
       "Name: reviews, Length: 267, dtype: int64"
      ]
     },
     "execution_count": 24,
     "metadata": {},
     "output_type": "execute_result"
    }
   ],
   "source": [
    "airbnb.reviews.value_counts()"
   ]
  },
  {
   "cell_type": "code",
   "execution_count": 25,
   "metadata": {},
   "outputs": [
    {
     "name": "stdout",
     "output_type": "stream",
     "text": [
      "room_id | 0 | int64\n",
      "host_id | 0 | int64\n",
      "reviews | 296 | int64\n",
      "overall_satisfaction | 0 | float64\n",
      "accommodates | 231 | int64\n",
      "bedrooms | 258 | float64\n",
      "price | 121 | float64\n"
     ]
    },
    {
     "name": "stderr",
     "output_type": "stream",
     "text": [
      "/Users/carolinedavis/anaconda3/lib/python3.6/site-packages/ipykernel_launcher.py:7: RuntimeWarning: invalid value encountered in greater\n",
      "  import sys\n"
     ]
    }
   ],
   "source": [
    "from scipy import stats\n",
    "import numpy as np\n",
    "\n",
    "def outliers_col(df):\n",
    "    for column in df:\n",
    "        if df[column].dtype != np.object:\n",
    "            n_outliers = len(df[(np.abs(stats.zscore(df[column])) > 3)& \\\n",
    "                  (df[column].notnull())\n",
    "                 ])\n",
    "            print(\"{} | {} | {}\".format(\n",
    "                df[column].name,\n",
    "                n_outliers,\n",
    "                df[column].dtype\n",
    "        ))\n",
    "\n",
    "outliers_col(airbnb)"
   ]
  },
  {
   "cell_type": "code",
   "execution_count": 27,
   "metadata": {},
   "outputs": [
    {
     "data": {
      "image/png": "[encoded data removed]",
      "text/plain": [
       "<Figure size 432x288 with 1 Axes>"
      ]
     },
     "metadata": {},
     "output_type": "display_data"
    }
   ],
   "source": [
    "airbnb.boxplot(column='accommodates');"
   ]
  },
  {
   "cell_type": "code",
   "execution_count": 29,
   "metadata": {},
   "outputs": [
    {
     "data": {
      "image/png": "[encoded data removed]",
      "text/plain": [
       "<Figure size 432x288 with 1 Axes>"
      ]
     },
     "metadata": {},
     "output_type": "display_data"
    }
   ],
   "source": [
    "airbnb.boxplot(column='bedrooms');"
   ]
  },
  {
   "cell_type": "code",
   "execution_count": 30,
   "metadata": {},
   "outputs": [
    {
     "data": {
      "image/png": "[encoded data removed]",
      "text/plain": [
       "<Figure size 432x288 with 1 Axes>"
      ]
     },
     "metadata": {},
     "output_type": "display_data"
    }
   ],
   "source": [
    "airbnb.boxplot(column='price');"
   ]
  },
  {
   "cell_type": "markdown",
   "metadata": {},
   "source": [
    "### Conclusion"
   ]
  },
  {
   "cell_type": "markdown",
   "metadata": {},
   "source": [
    "- There are no duplicate rows. \n",
    "- A majority of the listings are for the 'entire home'.\n",
    "- A majority of the listings are from a few neighborhoods.\n",
    "- A majority of the listings accommodate around 1-8 people, while a smaller portion accommodates over 10 people. \n",
    "- Most are 1-3 bedrooms. \n",
    "- Reviews counts the numbers of reviews given, a large portion has 0, this variable needs to be adjusted. \n",
    "- The most apparent outliers are in the 'price' variable"
   ]
  },
  {
   "cell_type": "markdown",
   "metadata": {},
   "source": [
    "(again no changes were actually made, still working with original file)"
   ]
  },
  {
   "cell_type": "code",
   "execution_count": null,
   "metadata": {},
   "outputs": [],
   "source": []
  }
 ],
 "metadata": {
  "kernelspec": {
   "display_name": "Python 3",
   "language": "python",
   "name": "python3"
  },
  "language_info": {
   "codemirror_mode": {
    "name": "ipython",
    "version": 3
   },
   "file_extension": ".py",
   "mimetype": "text/x-python",
   "name": "python",
   "nbconvert_exporter": "python",
   "pygments_lexer": "ipython3",
   "version": "3.6.5"
  }
 },
 "nbformat": 4,
 "nbformat_minor": 2
}
