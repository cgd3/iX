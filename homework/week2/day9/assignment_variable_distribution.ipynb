{
 "cells": [
  {
   "cell_type": "markdown",
   "metadata": {},
   "source": [
    "### Variable Distribution "
   ]
  },
  {
   "cell_type": "code",
   "execution_count": 1,
   "metadata": {},
   "outputs": [],
   "source": [
    "import pandas as pd\n",
    "import numpy as np\n",
    "import matplotlib.pyplot as plt\n",
    "import seaborn as sns\n",
    "from IPython.display import Image"
   ]
  },
  {
   "cell_type": "code",
   "execution_count": 2,
   "metadata": {},
   "outputs": [],
   "source": [
    "%matplotlib inline\n",
    "\n",
    "plt.rcParams['figure.figsize'] = (12,12)"
   ]
  },
  {
   "cell_type": "code",
   "execution_count": 3,
   "metadata": {},
   "outputs": [],
   "source": [
    "airbnb = pd.read_pickle('airbnb.2.grouped.pkl')"
   ]
  },
  {
   "cell_type": "code",
   "execution_count": 4,
   "metadata": {},
   "outputs": [
    {
     "data": {
      "text/plain": [
       "room_id                    int64\n",
       "host_id                    int64\n",
       "room_type                 object\n",
       "neighborhood              object\n",
       "reviews                    int64\n",
       "overall_satisfaction     float64\n",
       "accommodates               int64\n",
       "bedrooms                 float64\n",
       "price                    float64\n",
       "accommodation_types     category\n",
       "review_types            category\n",
       "satisfaction_types      category\n",
       "price_types             category\n",
       "dtype: object"
      ]
     },
     "execution_count": 4,
     "metadata": {},
     "output_type": "execute_result"
    }
   ],
   "source": [
    "airbnb.dtypes"
   ]
  },
  {
   "cell_type": "markdown",
   "metadata": {},
   "source": [
    "### Numberical Variable Distribution"
   ]
  },
  {
   "cell_type": "code",
   "execution_count": 5,
   "metadata": {},
   "outputs": [
    {
     "data": {
      "image/png": "[encoded data removed]",
      "text/plain": [
       "<Figure size 864x864 with 1 Axes>"
      ]
     },
     "metadata": {},
     "output_type": "display_data"
    }
   ],
   "source": [
    "airbnb['accommodates'].plot.hist();"
   ]
  },
  {
   "cell_type": "code",
   "execution_count": 10,
   "metadata": {},
   "outputs": [],
   "source": [
    "def numerical_variable_distribution(df, col):\n",
    "    df[col].plot.kde()\n",
    "    plt.xlabel('Variable \"{}\" Distribution'.format(col))\n",
    "    plt.show()"
   ]
  },
  {
   "cell_type": "code",
   "execution_count": 11,
   "metadata": {},
   "outputs": [],
   "source": [
    "numerical_columns = airbnb.select_dtypes(np.number).columns.tolist()"
   ]
  },
  {
   "cell_type": "code",
   "execution_count": 12,
   "metadata": {},
   "outputs": [],
   "source": [
    "from ipywidgets import interact, fixed"
   ]
  },
  {
   "cell_type": "code",
   "execution_count": 13,
   "metadata": {},
   "outputs": [
    {
     "data": {
      "application/vnd.jupyter.widget-view+json": {
       "model_id": "50df7b896a774e76a49a36f653fe7d0d",
       "version_major": 2,
       "version_minor": 0
      },
      "text/plain": [
       "interactive(children=(Dropdown(description='col', options=('room_id', 'host_id', 'reviews', 'overall_satisfact…"
      ]
     },
     "metadata": {},
     "output_type": "display_data"
    }
   ],
   "source": [
    "interact(numerical_variable_distribution, \n",
    "         col=numerical_columns, df=fixed(airbnb));"
   ]
  },
  {
   "cell_type": "code",
   "execution_count": 14,
   "metadata": {},
   "outputs": [],
   "source": [
    "from scipy import stats"
   ]
  },
  {
   "cell_type": "code",
   "execution_count": 15,
   "metadata": {},
   "outputs": [],
   "source": [
    "def numerical_variable_normality(col):\n",
    "    stats.probplot(airbnb[col], plot=plt)\n",
    "    plt.xlabel('Probability plot for variable {}'.format(col))\n",
    "    plt.show()"
   ]
  },
  {
   "cell_type": "code",
   "execution_count": 16,
   "metadata": {},
   "outputs": [
    {
     "data": {
      "application/vnd.jupyter.widget-view+json": {
       "model_id": "3c56f7f003b64c1eba1e4a530a4925fb",
       "version_major": 2,
       "version_minor": 0
      },
      "text/plain": [
       "interactive(children=(Dropdown(description='col', options=('room_id', 'host_id', 'reviews', 'overall_satisfact…"
      ]
     },
     "metadata": {},
     "output_type": "display_data"
    }
   ],
   "source": [
    "interact(numerical_variable_normality, col=numerical_columns);"
   ]
  },
  {
   "cell_type": "code",
   "execution_count": 18,
   "metadata": {},
   "outputs": [
    {
     "name": "stdout",
     "output_type": "stream",
     "text": [
      "Column room_id doesn't follow a normal distribution\n",
      "Column host_id doesn't follow a normal distribution\n",
      "Column reviews doesn't follow a normal distribution\n",
      "Column overall_satisfaction doesn't follow a normal distribution\n",
      "Column accommodates doesn't follow a normal distribution\n",
      "Column bedrooms doesn't follow a normal distribution\n",
      "Column price doesn't follow a normal distribution\n"
     ]
    }
   ],
   "source": [
    "for num_col in numerical_columns:\n",
    "    _, pval = stats.normaltest(airbnb[num_col][airbnb[num_col].notnull()])\n",
    "    if(pval < 0.05):\n",
    "        print(\"Column {} doesn't follow a normal distribution\".format(num_col))"
   ]
  },
  {
   "cell_type": "markdown",
   "metadata": {},
   "source": [
    "### Categorical Variable Distribution"
   ]
  },
  {
   "cell_type": "code",
   "execution_count": 19,
   "metadata": {},
   "outputs": [],
   "source": [
    "def categorical_variable_distribution(col):\n",
    "    airbnb[col].value_counts(ascending=True,normalize=True).tail(20).plot.barh()\n",
    "    plt.show()"
   ]
  },
  {
   "cell_type": "code",
   "execution_count": 20,
   "metadata": {},
   "outputs": [],
   "source": [
    "categorical_columns = airbnb.select_dtypes(\n",
    "    ['object', 'category']).columns.tolist()"
   ]
  },
  {
   "cell_type": "code",
   "execution_count": 21,
   "metadata": {},
   "outputs": [
    {
     "data": {
      "application/vnd.jupyter.widget-view+json": {
       "model_id": "6844130eea1142e6b8dcfc0f9e951000",
       "version_major": 2,
       "version_minor": 0
      },
      "text/plain": [
       "interactive(children=(Dropdown(description='col', options=('room_type', 'neighborhood', 'accommodation_types',…"
      ]
     },
     "metadata": {},
     "output_type": "display_data"
    }
   ],
   "source": [
    "interact(categorical_variable_distribution, col=categorical_columns);"
   ]
  },
  {
   "cell_type": "markdown",
   "metadata": {},
   "source": [
    "### Conclusion \n",
    "\n",
    "- No numerical variables follow a normal distribution \n",
    "- A majority of the listings are in a few neighborhoods, with Santa Maria Maior having over 20%.\n",
    "- About 35% of the listings are considered very small based on how many the accommodate. \n",
    "- The satisfaction type variable is almost evenly distributed across all categories. \n",
    "- The price type variable is also almost evenly distributed. "
   ]
  },
  {
   "cell_type": "code",
   "execution_count": null,
   "metadata": {},
   "outputs": [],
   "source": []
  }
 ],
 "metadata": {
  "kernelspec": {
   "display_name": "Python 3",
   "language": "python",
   "name": "python3"
  },
  "language_info": {
   "codemirror_mode": {
    "name": "ipython",
    "version": 3
   },
   "file_extension": ".py",
   "mimetype": "text/x-python",
   "name": "python",
   "nbconvert_exporter": "python",
   "pygments_lexer": "ipython3",
   "version": "3.6.5"
  }
 },
 "nbformat": 4,
 "nbformat_minor": 2
}
