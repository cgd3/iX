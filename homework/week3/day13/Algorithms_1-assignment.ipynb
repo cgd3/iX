{
 "cells": [
  {
   "cell_type": "markdown",
   "metadata": {},
   "source": [
    "# Exercise 1\n",
    "\n",
    "Lets imagine there is a medical test for a disease that has a 92% chance of detecting a disease if the person has it (True Positive) and a 94% chance of correctly detecting that the disease is absent if the person doesnt have the disease (True Negative).\n",
    "\n",
    "10% of the general population has the disease."
   ]
  },
  {
   "cell_type": "markdown",
   "metadata": {},
   "source": [
    "### What is the probability of testing positive (whether you have the disease or not)?"
   ]
  },
  {
   "cell_type": "code",
   "execution_count": null,
   "metadata": {},
   "outputs": [],
   "source": []
  },
  {
   "cell_type": "markdown",
   "metadata": {},
   "source": [
    "### What is the probability of having the disease given that you got a positive test?"
   ]
  },
  {
   "cell_type": "markdown",
   "metadata": {},
   "source": [
    "# Exercise 2"
   ]
  },
  {
   "cell_type": "markdown",
   "metadata": {},
   "source": [
    "We are going to use a reduced sample of the [Lending Club dataset](https://www.lendingclub.com/info/download-data.action). The Lending Club is a startup that provides personal loans up to $40,000. \n",
    "\n",
    "Every quarter they release all of their data related to how many loan requests they accept and how many they reject.\n",
    "\n",
    "The target variable is `status`, that indicates whether the loan request was `accepted` or `rejected`."
   ]
  },
  {
   "cell_type": "code",
   "execution_count": 1,
   "metadata": {},
   "outputs": [],
   "source": [
    "import pandas as pd\n",
    "\n",
    "loans = pd.read_csv(\"data/loans.csv\")\n",
    "\n",
    "target = \"status\""
   ]
  },
  {
   "cell_type": "markdown",
   "metadata": {},
   "source": [
    "### Train a decision tree regressor with max features = 5 train it on the data and save the tree , what are its top 5 most important features?\n",
    "\n"
   ]
  },
  {
   "cell_type": "code",
   "execution_count": null,
   "metadata": {},
   "outputs": [],
   "source": []
  },
  {
   "cell_type": "markdown",
   "metadata": {},
   "source": [
    "### Create a predictive pipeline and perform hyperparameter optimization, using the r2 scoring. Which numerical transformer works best? which estimator works best, a KNN Classifier, or a DecisionTree Classifier?"
   ]
  }
 ],
 "metadata": {
  "kernelspec": {
   "display_name": "Python 3",
   "language": "python",
   "name": "python3"
  },
  "language_info": {
   "codemirror_mode": {
    "name": "ipython",
    "version": 3
   },
   "file_extension": ".py",
   "mimetype": "text/x-python",
   "name": "python",
   "nbconvert_exporter": "python",
   "pygments_lexer": "ipython3",
   "version": "3.6.4"
  }
 },
 "nbformat": 4,
 "nbformat_minor": 2
}
